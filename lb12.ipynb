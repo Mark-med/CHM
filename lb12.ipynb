{
  "nbformat": 4,
  "nbformat_minor": 0,
  "metadata": {
    "colab": {
      "provenance": [],
      "authorship_tag": "ABX9TyOtYNRLELNt1jGjiOpXfPZG",
      "include_colab_link": true
    },
    "kernelspec": {
      "name": "python3",
      "display_name": "Python 3"
    },
    "language_info": {
      "name": "python"
    }
  },
  "cells": [
    {
      "cell_type": "markdown",
      "metadata": {
        "id": "view-in-github",
        "colab_type": "text"
      },
      "source": [
        "<a href=\"https://colab.research.google.com/github/Mark-med/CHM/blob/main/lb12.ipynb\" target=\"_parent\"><img src=\"https://colab.research.google.com/assets/colab-badge.svg\" alt=\"Open In Colab\"/></a>"
      ]
    },
    {
      "cell_type": "markdown",
      "source": [
        "#Медведчук Марк 13 варіант лаба 12"
      ],
      "metadata": {
        "id": "tR3QnXlca7pR"
      }
    },
    {
      "cell_type": "markdown",
      "source": [
        "#Метод прямокутників"
      ],
      "metadata": {
        "id": "LJ9A4GEbbJAb"
      }
    },
    {
      "cell_type": "code",
      "execution_count": 2,
      "metadata": {
        "colab": {
          "base_uri": "https://localhost:8080/"
        },
        "id": "8mRrcQRAa7ND",
        "outputId": "62b35930-6d52-4810-c03f-0bc400c422f9"
      },
      "outputs": [
        {
          "output_type": "stream",
          "name": "stdout",
          "text": [
            "left rectangle: 0.39157\n",
            "right rectangle: 0.42953\n",
            "average rectangle: 0.39157\n",
            "Check for the rectangle method=  0.4106\n"
          ]
        }
      ],
      "source": [
        "\n",
        "#Обчислення інтеграла методом прямокутників\n",
        "from scipy import integrate\n",
        "import numpy as np\n",
        "\n",
        "a = 0.4\n",
        "b = 1.2\n",
        "n = 10\n",
        "def f1(x):\n",
        "    return x/np.sqrt(0.5*x + 2)\n",
        "\n",
        "def left_rec(f1,a,b,n):\n",
        "    h=(b-a)/n\n",
        "    sum=0\n",
        "    for i in range(0,n):\n",
        "        sum+=f1(a+i*h)\n",
        "    return sum*h\n",
        "print(\"left rectangle:\",round (left_rec(f1,a,b,10), 5))\n",
        "\n",
        "def right_rec(f1,a,b,n):\n",
        "    h=(b-a)/n\n",
        "    sum=0\n",
        "    for i in range(1,n+1):\n",
        "        sum+=f1(a+i*h)\n",
        "    return sum*h\n",
        "print(\"right rectangle:\",round (right_rec(f1,a,b,10), 5))\n",
        "\n",
        "def aver_rec(f1,a,b,n):\n",
        "    h=0.08\n",
        "    sum=0\n",
        "    for i in range(0,n):\n",
        "        sum+=f1(a+i*h)\n",
        "    return sum*h\n",
        "print(\"average rectangle:\",round (aver_rec(f1,a,b,10), 5))\n",
        "\n",
        "v,err = integrate.quad(f1,a,b)#Перевірка\n",
        "print(\"Check for the rectangle method= \",round (v, 5))"
      ]
    },
    {
      "cell_type": "markdown",
      "source": [
        "#Метод Сімпсона"
      ],
      "metadata": {
        "id": "I0a_gFMIbONJ"
      }
    },
    {
      "cell_type": "code",
      "source": [
        "from scipy import integrate\n",
        "import numpy as np\n",
        "\n",
        "# Задаем функцию, которую необходимо интегрировать\n",
        "def f(x):\n",
        "    return x**2 * np.log10(x)  # Используем np.log10 для десятичного логарифма\n",
        "\n",
        "# Задаем пределы интегрирования и начальное количество разбиений\n",
        "a = 1.4\n",
        "b = 3\n",
        "n = 8\n",
        "\n",
        "# Определяем метод Симпсона для численного интегрирования\n",
        "def simpson_rule(f, a, b, n):\n",
        "    h = (b - a) / n\n",
        "    integr = f(a) + f(b)\n",
        "    for i in range(1, n):\n",
        "        k = a + i * h\n",
        "        if i % 2 == 0:\n",
        "            integr += 2 * f(k)\n",
        "        else:\n",
        "            integr += 4 * f(k)\n",
        "    integr *= h / 3\n",
        "    return integr\n",
        "\n",
        "# Вычисляем значение интеграла методом Симпсона с точностью 0.001\n",
        "integral1 = simpson_rule(f, a, b, n)\n",
        "n *= 2\n",
        "integral2 = simpson_rule(f, a, b, n)\n",
        "while abs(integral2 - integral1) / 15 > 0.001:\n",
        "    integral1 = integral2\n",
        "    n *= 2\n",
        "    integral2 = simpson_rule(f, a, b, n)\n",
        "\n",
        "# Выводим результат\n",
        "print(\"Simpson method:\", round(integral2, 3))\n",
        "\n",
        "# Проверка с помощью встроенной функции integrate.quad\n",
        "v, err = integrate.quad(f, a, b)\n",
        "print(\"Check for Simpson method:\", round(v, 3))\n"
      ],
      "metadata": {
        "colab": {
          "base_uri": "https://localhost:8080/"
        },
        "id": "jyNabXBSbRQL",
        "outputId": "874cd0c3-ce50-45db-e357-2806485b1ce5"
      },
      "execution_count": 6,
      "outputs": [
        {
          "output_type": "stream",
          "name": "stdout",
          "text": [
            "Simpson method: 2.99\n",
            "Check for Simpson method: 2.99\n"
          ]
        }
      ]
    },
    {
      "cell_type": "markdown",
      "source": [
        "#Метод Трапецій"
      ],
      "metadata": {
        "id": "E33DyppObT6S"
      }
    },
    {
      "cell_type": "code",
      "source": [
        "from scipy import integrate\n",
        "import numpy as np\n",
        "\n",
        "# Задаємо функцію, яку необхідно інтегрувати\n",
        "def f(x):\n",
        "    return x / np.sqrt(x**2 + 1.2)\n",
        "\n",
        "# Задаємо межі інтегрування та початкову кількість розбиттів\n",
        "a = 1.2\n",
        "b = 2\n",
        "n = 20\n",
        "\n",
        "# Обчислюємо значення інтегралу методом трапецій\n",
        "def trapezoidal_rule(f, a, b, n):\n",
        "    h = (b - a) / n\n",
        "    sum = f(a) + f(b)  # Додаємо перше і останнє значення\n",
        "    x = a\n",
        "\n",
        "    for i in range(1, n):\n",
        "        x += h\n",
        "        sum += 2 * f(x)\n",
        "\n",
        "    integral = (h / 2) * sum\n",
        "    return integral\n",
        "\n",
        "# Виводимо результат методу трапецій\n",
        "integral_trap = trapezoidal_rule(f, a, b, n)\n",
        "print(\"Результат методу трапецій:\", round(integral_trap, 3))\n",
        "\n",
        "# Перевірка результату за допомогою методу scipy.quad\n",
        "v, err = integrate.quad(f, a, b)\n",
        "print(\"Результат scipy.quad для перевірки:\", round(v, 5))\n"
      ],
      "metadata": {
        "colab": {
          "base_uri": "https://localhost:8080/"
        },
        "id": "kmGlBsnlbWzy",
        "outputId": "838aa18c-0adc-44df-d587-ce6112b8f6a8"
      },
      "execution_count": 7,
      "outputs": [
        {
          "output_type": "stream",
          "name": "stdout",
          "text": [
            "Результат методу трапецій: 0.656\n",
            "Результат scipy.quad для перевірки: 0.65554\n"
          ]
        }
      ]
    }
  ]
}