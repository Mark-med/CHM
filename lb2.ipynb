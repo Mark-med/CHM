{
  "nbformat": 4,
  "nbformat_minor": 0,
  "metadata": {
    "colab": {
      "provenance": [],
      "authorship_tag": "ABX9TyMnj1Srt2Ykqim1mV88o1cB",
      "include_colab_link": true
    },
    "kernelspec": {
      "name": "python3",
      "display_name": "Python 3"
    },
    "language_info": {
      "name": "python"
    }
  },
  "cells": [
    {
      "cell_type": "markdown",
      "metadata": {
        "id": "view-in-github",
        "colab_type": "text"
      },
      "source": [
        "<a href=\"https://colab.research.google.com/github/Mark-med/CHM/blob/main/lb2.ipynb\" target=\"_parent\"><img src=\"https://colab.research.google.com/assets/colab-badge.svg\" alt=\"Open In Colab\"/></a>"
      ]
    },
    {
      "cell_type": "markdown",
      "source": [
        "#Медведчук Марк 13 варіант лаба 2"
      ],
      "metadata": {
        "id": "rfQLy7BN145o"
      }
    },
    {
      "cell_type": "code",
      "execution_count": 4,
      "metadata": {
        "colab": {
          "base_uri": "https://localhost:8080/"
        },
        "id": "Ive0-MdMuGRA",
        "outputId": "bfe6620f-a638-4383-ee11-40cd985a37f5"
      },
      "outputs": [
        {
          "output_type": "stream",
          "name": "stdout",
          "text": [
            "Found segment:  [-1, 0]\n",
            "Found segment:  [1, 2]\n"
          ]
        }
      ],
      "source": [
        "import math\n",
        "import numpy as np\n",
        "from scipy.misc import derivative\n",
        "def f(x):\n",
        "   return 3*pow(x, 4) - 4*pow(x,3) + pow(x, 2) - 2*x - 5\n",
        "eps=0.0001\n",
        "\n",
        "def find_segments(): #відокремлюємо корені\n",
        "    search_range = np.arange(-10, 10, 1)\n",
        "\n",
        "    a = None\n",
        "    previous_x = None\n",
        "    current_x  = None\n",
        "    segments = []\n",
        "\n",
        "    for x in search_range:\n",
        "        x = round(x, 4)\n",
        "        current_x = f(x)\n",
        "        if previous_x != None and previous_x * current_x < 0:\n",
        "            segments.append((a, x))\n",
        "        a = x\n",
        "        previous_x = current_x\n",
        "    return segments\n",
        "\n",
        "segments = find_segments()\n",
        "for a, b in segments:\n",
        "    print(f'Found segment:  [{a}, {b}]')\n",
        "\n",
        "a=0. #початок першого відрізка\n",
        "b=1. # кінець першого відрізка"
      ]
    },
    {
      "cell_type": "code",
      "source": [
        "import math\n",
        "import numpy as np\n",
        "from scipy.misc import derivative\n",
        "def f(x):\n",
        "   return 3*pow(x, 4) - 4*pow(x,3) + pow(x, 2) - 2*x - 5\n",
        "eps=0.0001\n",
        "\n",
        "def find_segments(): #відокремлюємо корені\n",
        "    search_range = np.arange(-10, 10, 1)\n",
        "\n",
        "    a = None\n",
        "    previous_x = None\n",
        "    current_x  = None\n",
        "    segments = []\n",
        "\n",
        "    for x in search_range:\n",
        "        x = round(x, 4)\n",
        "        current_x = f(x)\n",
        "        if previous_x != None and previous_x * current_x < 0:\n",
        "            segments.append((a, x))\n",
        "        a = x\n",
        "        previous_x = current_x\n",
        "    return segments\n",
        "\n",
        "segments = find_segments()\n",
        "for a, b in segments:\n",
        "    print(f'Found segment:  [{a}, {b}]')\n",
        "def rec(a, b, eps): #метод половинного ділення\n",
        "    while (abs(a-b) > eps):\n",
        "        if f(a)*f((a+b)/2)<0:\n",
        "            b = (a+b)/2\n",
        "        else:\n",
        "            a = (a+b)/2\n",
        "        x = (a+b)/2\n",
        "\n",
        "    print ('x= ', round(x,5), '  -   Half division method')\n",
        "\n",
        "\n",
        "a=0. #початок першого відрізка\n",
        "b=1. # кінець першого відрізка\n",
        "rec (a,b,eps)\n"
      ],
      "metadata": {
        "colab": {
          "base_uri": "https://localhost:8080/"
        },
        "id": "NgPG99Xq2CfN",
        "outputId": "c5252932-6432-4373-f684-aed75ae74a13"
      },
      "execution_count": 5,
      "outputs": [
        {
          "output_type": "stream",
          "name": "stdout",
          "text": [
            "Found segment:  [-1, 0]\n",
            "Found segment:  [1, 2]\n",
            "x=  0.99997   -   Half division method\n"
          ]
        }
      ]
    },
    {
      "cell_type": "code",
      "source": [
        "import numpy as np\n",
        "from sympy import diff, symbols\n",
        "\n",
        "def f(x):\n",
        "   return 3*pow(x, 4) - 4*pow(x,3) + pow(x, 2) - 2*x - 5\n",
        "\n",
        "eps = 0.0001\n",
        "\n",
        "def find_segments(): # Відокремлюємо корені\n",
        "    search_range = np.arange(-10, 10, 1)\n",
        "\n",
        "    a = None\n",
        "    previous_x = None\n",
        "    current_x  = None\n",
        "    segments = []\n",
        "\n",
        "    for x in search_range:\n",
        "        x = round(x, 4)\n",
        "        current_x = f(x)\n",
        "        if previous_x is not None and previous_x * current_x < 0:\n",
        "            segments.append((a, x))\n",
        "        a = x\n",
        "        previous_x = current_x\n",
        "    return segments\n",
        "\n",
        "segments = find_segments()\n",
        "for a, b in segments:\n",
        "    print(f'Found segment:  [{a}, {b}]')\n",
        "\n",
        "# Метод хорд\n",
        "def hord(a, b, eps):\n",
        "    x = symbols('x')\n",
        "    f_prime_2 = diff(f(x), x, 2)\n",
        "\n",
        "    if (f(a) * f_prime_2.subs(x, a) > 0):\n",
        "        x0 = a\n",
        "        xi = b\n",
        "    else:\n",
        "        x0 = b\n",
        "        xi = a\n",
        "\n",
        "    xi_1 = xi - (xi - x0) * f(xi) / (f(xi) - f(x0))\n",
        "\n",
        "    while abs(xi_1 - xi) > eps:\n",
        "        xi = xi_1\n",
        "        xi_1 = xi - (xi - x0) * f(xi) / (f(xi) - f(x0))\n",
        "\n",
        "    print('x= ', round(xi_1, 5), '  -   Chord method')\n",
        "\n",
        "for a, b in segments:\n",
        "    hord(a, b, eps)\n"
      ],
      "metadata": {
        "colab": {
          "base_uri": "https://localhost:8080/"
        },
        "id": "X-RWLUnW2EmM",
        "outputId": "0d912923-8173-4baf-ac94-0e83b468fb9f"
      },
      "execution_count": 8,
      "outputs": [
        {
          "output_type": "stream",
          "name": "stdout",
          "text": [
            "Found segment:  [-1, 0]\n",
            "Found segment:  [1, 2]\n",
            "x=  -0.76913   -   Chord method\n",
            "x=  1.70407   -   Chord method\n"
          ]
        }
      ]
    }
  ]
}