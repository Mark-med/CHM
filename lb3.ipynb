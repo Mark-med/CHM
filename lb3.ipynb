{
  "nbformat": 4,
  "nbformat_minor": 0,
  "metadata": {
    "colab": {
      "provenance": [],
      "authorship_tag": "ABX9TyOCeBjscxH28sIurE1qMA16",
      "include_colab_link": true
    },
    "kernelspec": {
      "name": "python3",
      "display_name": "Python 3"
    },
    "language_info": {
      "name": "python"
    }
  },
  "cells": [
    {
      "cell_type": "markdown",
      "metadata": {
        "id": "view-in-github",
        "colab_type": "text"
      },
      "source": [
        "<a href=\"https://colab.research.google.com/github/Mark-med/CHM/blob/main/lb3.ipynb\" target=\"_parent\"><img src=\"https://colab.research.google.com/assets/colab-badge.svg\" alt=\"Open In Colab\"/></a>"
      ]
    },
    {
      "cell_type": "markdown",
      "source": [
        "#Медведчук Марк 13 варіант лаба 3\n",
        "\n"
      ],
      "metadata": {
        "id": "fVpj_zXA4Rrk"
      }
    },
    {
      "cell_type": "code",
      "execution_count": 3,
      "metadata": {
        "colab": {
          "base_uri": "https://localhost:8080/"
        },
        "id": "e1oYXvl14P_F",
        "outputId": "a8ec7cd9-13f6-4c33-dc86-0278fef2df9a"
      },
      "outputs": [
        {
          "output_type": "stream",
          "name": "stdout",
          "text": [
            "Solving the equation by Newton’s method: x = -0.76915\n",
            "Solving the equation by Newton’s method: x = -0.76915\n"
          ]
        }
      ],
      "source": [
        "import numpy as np\n",
        "import math\n",
        "from sympy import diff, symbols\n",
        "\n",
        "def f(x):\n",
        "    return 3 * pow(x, 4) - 4 * pow(x, 3) + pow(x, 2) - 2 * x - 5\n",
        "\n",
        "eps = 0.001\n",
        "\n",
        "def nuton(a, b, eps):\n",
        "    x = symbols('x')\n",
        "    f_prime = diff(f(x), x, 1)\n",
        "    f_prime_2 = diff(f(x), x, 2)\n",
        "\n",
        "    if (f(b) * f_prime_2.subs(x, b) > 0):\n",
        "        xi = b\n",
        "    else:\n",
        "        xi = a\n",
        "\n",
        "    xi_1 = xi - f(xi) / f_prime.subs(x, xi)\n",
        "\n",
        "    while abs(xi_1 - xi) > eps:\n",
        "        xi = xi_1\n",
        "        df = f_prime.subs(x, xi)\n",
        "        xi_1 = xi - f(xi) / df\n",
        "\n",
        "    return print(f'Solving the equation by Newton’s method: x = {xi_1:.5f}')\n",
        "\n",
        "nuton(-2, -1, eps)\n",
        "nuton(0, 1, eps)\n"
      ]
    },
    {
      "cell_type": "code",
      "source": [
        "import numpy as np\n",
        "from sympy import diff, symbols\n",
        "\n",
        "def f(x):\n",
        "    return 3 * pow(x, 4) - 4 * pow(x, 3) + pow(x, 2) - 2 * x - 5\n",
        "\n",
        "eps = 0.0001\n",
        "\n",
        "def komb(a, b, eps):\n",
        "    x = symbols('x')\n",
        "    f_prime = diff(f(x), x, 1)\n",
        "    f_prime_2 = diff(f(x), x, 2)\n",
        "\n",
        "    if (f_prime.subs(x, a) * f_prime_2.subs(x, a) > 0):\n",
        "        a0 = a\n",
        "        b0 = b\n",
        "    else:\n",
        "        a0 = b\n",
        "        b0 = a\n",
        "\n",
        "    ai = a0\n",
        "    bi = b0\n",
        "\n",
        "    while abs(ai - bi) > eps:\n",
        "        ai_1 = ai - f(ai) * (bi - ai) / (f(bi) - f(ai))\n",
        "\n",
        "        df_bi = f_prime.subs(x, bi)\n",
        "        bi_1 = bi - f(bi) / df_bi\n",
        "\n",
        "        ai = ai_1\n",
        "        bi = bi_1\n",
        "\n",
        "    x_sol = (ai_1 + bi_1) / 2\n",
        "\n",
        "    return print(f'Solving the equation by the combined method: x = {x_sol:.5f}')\n",
        "\n",
        "komb(-2, -1, eps)\n",
        "komb(0, 1, eps)    #\n"
      ],
      "metadata": {
        "colab": {
          "base_uri": "https://localhost:8080/"
        },
        "id": "EvHUm2Hq4okv",
        "outputId": "aaf7b473-cc82-48e2-aa9f-c0a19dbd2912"
      },
      "execution_count": 2,
      "outputs": [
        {
          "output_type": "stream",
          "name": "stdout",
          "text": [
            "Solving the equation by the combined method: x = -0.76920\n",
            "Solving the equation by the combined method: x = -2.50000\n"
          ]
        }
      ]
    }
  ]
}