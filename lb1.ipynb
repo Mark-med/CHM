{
  "nbformat": 4,
  "nbformat_minor": 0,
  "metadata": {
    "colab": {
      "provenance": [],
      "authorship_tag": "ABX9TyPn82PZAEe+97r2JPWi5zKn",
      "include_colab_link": true
    },
    "kernelspec": {
      "name": "python3",
      "display_name": "Python 3"
    },
    "language_info": {
      "name": "python"
    }
  },
  "cells": [
    {
      "cell_type": "markdown",
      "metadata": {
        "id": "view-in-github",
        "colab_type": "text"
      },
      "source": [
        "<a href=\"https://colab.research.google.com/github/Mark-med/CHM/blob/main/lb1.ipynb\" target=\"_parent\"><img src=\"https://colab.research.google.com/assets/colab-badge.svg\" alt=\"Open In Colab\"/></a>"
      ]
    },
    {
      "cell_type": "markdown",
      "source": [
        "#Медведчук Марк 13 варіант лаба 1\n"
      ],
      "metadata": {
        "id": "nd5ppxWcrbbV"
      }
    },
    {
      "cell_type": "code",
      "execution_count": 1,
      "metadata": {
        "colab": {
          "base_uri": "https://localhost:8080/"
        },
        "id": "OBbY11sjq0BL",
        "outputId": "fe26a9d1-7783-49c1-fc31-7cec96c80850"
      },
      "outputs": [
        {
          "output_type": "stream",
          "name": "stdout",
          "text": [
            "Друга рівність точніше з відносною похибкою: 0.00092\n"
          ]
        }
      ],
      "source": [
        "import numpy as np\n",
        "\n",
        "def f(x, y):\n",
        "    return np.abs(x - y) / np.abs(x)\n",
        "\n",
        "def main():\n",
        "    x1 = np.sqrt(31)  # Точне значення sqrt(31)\n",
        "    x2 = 13 / 17  # Точне значення 13/17\n",
        "    x1_1 = 5.56  # Наближене значення sqrt(65)\n",
        "    x2_2 = 0.764  # Наближене значення 12/7\n",
        "\n",
        "    rel_error_x1 = f(x1, x1_1)\n",
        "    rel_error_x2 = f(x2, x2_2)\n",
        "\n",
        "    if rel_error_x1 < rel_error_x2:\n",
        "        print(\"Перша рівність точніше з відносною похибкою:\", round(rel_error_x1, 5))\n",
        "    elif rel_error_x2 < rel_error_x1:\n",
        "        print(\"Друга рівність точніше з відносною похибкою:\", round(rel_error_x2, 5))\n",
        "    else:\n",
        "        print(\"Обидві рівності мають однакову точність з відносною похибкою:\", round(rel_error_x2, 5))\n",
        "\n",
        "if __name__ == \"__main__\":\n",
        "    main()"
      ]
    }
  ]
}