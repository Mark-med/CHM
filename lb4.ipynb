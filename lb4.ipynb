{
  "nbformat": 4,
  "nbformat_minor": 0,
  "metadata": {
    "colab": {
      "provenance": [],
      "authorship_tag": "ABX9TyO95o1f2qRLj7XXCHYl6orY",
      "include_colab_link": true
    },
    "kernelspec": {
      "name": "python3",
      "display_name": "Python 3"
    },
    "language_info": {
      "name": "python"
    }
  },
  "cells": [
    {
      "cell_type": "markdown",
      "metadata": {
        "id": "view-in-github",
        "colab_type": "text"
      },
      "source": [
        "<a href=\"https://colab.research.google.com/github/Mark-med/CHM/blob/main/lb4.ipynb\" target=\"_parent\"><img src=\"https://colab.research.google.com/assets/colab-badge.svg\" alt=\"Open In Colab\"/></a>"
      ]
    },
    {
      "cell_type": "markdown",
      "source": [
        "#Медведчук Марк 13 варіант лаба 4"
      ],
      "metadata": {
        "id": "6iOfHS5I6N_z"
      }
    },
    {
      "cell_type": "code",
      "execution_count": 1,
      "metadata": {
        "colab": {
          "base_uri": "https://localhost:8080/"
        },
        "id": "OSp0d8LP6Mt9",
        "outputId": "4ae05a9a-a66c-43fc-b9e0-8ee09313e92a"
      },
      "outputs": [
        {
          "output_type": "stream",
          "name": "stdout",
          "text": [
            "[[ 6 15  9]\n",
            " [ 0  4 -1]\n",
            " [ 4 15  6]]\n"
          ]
        }
      ],
      "source": [
        "import numpy as np\n",
        "a_arr = np.array([[2, 3, 1], [-1, 1, 0], [1, 2, -1]])\n",
        "b_arr = np.array([[1, 2, 1], [0, 1, 2], [3, 1, 1]])\n",
        "c = b_arr.dot(a_arr) + a_arr.dot(b_arr)\n",
        "\n",
        "print(c)"
      ]
    },
    {
      "cell_type": "code",
      "source": [
        "import numpy as np\n",
        "arr = np.array([[-1, 2], [0, 1],])\n",
        "power= np.dot(arr,arr)\n",
        "print(power)"
      ],
      "metadata": {
        "colab": {
          "base_uri": "https://localhost:8080/"
        },
        "id": "XaK2Xsik62-A",
        "outputId": "cd30b9f5-c09c-4b59-b8d6-bdab2ea4e614"
      },
      "execution_count": 2,
      "outputs": [
        {
          "output_type": "stream",
          "name": "stdout",
          "text": [
            "[[1 0]\n",
            " [0 1]]\n"
          ]
        }
      ]
    },
    {
      "cell_type": "code",
      "source": [
        "import numpy as np\n",
        "matrix_1 = np.array([[5, 8 , -4], [6 , 9 , -5], [4, 7, -3]])\n",
        "matrix_2 = np.array([[3, 2, 5], [4, -1,3] , [9 ,6 ,5]])\n",
        "matrix_3 = matrix_1.dot(matrix_2)\n",
        "print(matrix_3)\n"
      ],
      "metadata": {
        "colab": {
          "base_uri": "https://localhost:8080/"
        },
        "id": "3CLIRtKy65Rx",
        "outputId": "dab69cb7-8817-4533-ad62-43a010e5b3cd"
      },
      "execution_count": 3,
      "outputs": [
        {
          "output_type": "stream",
          "name": "stdout",
          "text": [
            "[[ 11 -22  29]\n",
            " [  9 -27  32]\n",
            " [ 13 -17  26]]\n"
          ]
        }
      ]
    },
    {
      "cell_type": "code",
      "source": [
        "import numpy as np\n",
        "arr_a = np.array([[2, 4, 5], [1, 1, 2], [2, 4, 3]])\n",
        "a_det = np.linalg.det(arr_a)\n",
        "print(format(a_det,'.9g'))"
      ],
      "metadata": {
        "colab": {
          "base_uri": "https://localhost:8080/"
        },
        "id": "SSoGNGEA69AN",
        "outputId": "7d9e0c69-ee25-405b-9c9f-5fa6eebfefd9"
      },
      "execution_count": 4,
      "outputs": [
        {
          "output_type": "stream",
          "name": "stdout",
          "text": [
            "4\n"
          ]
        }
      ]
    },
    {
      "cell_type": "code",
      "source": [
        "import numpy as np\n",
        "a_arr = np.array([[1, 2, 0,0,0], [1, 0, 2, 0,0], [1, 0, 0, 2,0], [1, 0, 0, 0,2],[0,0,1,1,1]])\n",
        "a_det = np.linalg.det(a_arr)\n",
        "print(format(a_det,'.9g'))"
      ],
      "metadata": {
        "colab": {
          "base_uri": "https://localhost:8080/"
        },
        "id": "KwvPlOlR6__P",
        "outputId": "7c48e17b-fff2-413e-f61f-7352b6d89208"
      },
      "execution_count": 5,
      "outputs": [
        {
          "output_type": "stream",
          "name": "stdout",
          "text": [
            "-24\n"
          ]
        }
      ]
    },
    {
      "cell_type": "code",
      "source": [
        "a = np.array([[1, 2, 2], [2, 1, -2], [2, -2, 1]])\n",
        "a_inv = np.linalg.inv(a)\n",
        "print(a_inv)\n"
      ],
      "metadata": {
        "colab": {
          "base_uri": "https://localhost:8080/"
        },
        "id": "TB10WtDH7CAv",
        "outputId": "2b5700bd-aac4-4234-80da-32b59a2df657"
      },
      "execution_count": 6,
      "outputs": [
        {
          "output_type": "stream",
          "name": "stdout",
          "text": [
            "[[ 0.11111111  0.22222222  0.22222222]\n",
            " [ 0.22222222  0.11111111 -0.22222222]\n",
            " [ 0.22222222 -0.22222222  0.11111111]]\n"
          ]
        }
      ]
    },
    {
      "cell_type": "code",
      "source": [
        "aa = np.array([[1, 2, 3,4], [3, -1, 2, 5], [1, 2, 3, 4], [1, 3, 4, 5]])\n",
        "rank = np.linalg.matrix_rank(aa)\n",
        "print(rank)\n"
      ],
      "metadata": {
        "colab": {
          "base_uri": "https://localhost:8080/"
        },
        "id": "rZK2mhJg7GQ7",
        "outputId": "310f85c4-3af6-49d4-b2e6-c7c2f461d8dc"
      },
      "execution_count": 7,
      "outputs": [
        {
          "output_type": "stream",
          "name": "stdout",
          "text": [
            "2\n"
          ]
        }
      ]
    },
    {
      "cell_type": "code",
      "source": [
        "A = np.matrix('1 -4 0; 2 -3 1; 1 4 2')\n",
        "B = np.matrix('-5; -7; -1')\n",
        "print('A=', A)\n",
        "print('B=',B)\n",
        "A_inv = np.linalg.inv(A)\n",
        "print(A_inv)\n",
        "X = A_inv.dot(B)\n",
        "print('X=',X)"
      ],
      "metadata": {
        "colab": {
          "base_uri": "https://localhost:8080/"
        },
        "id": "MGEEpjh67Ssk",
        "outputId": "fda02e0d-3d45-4fac-bb02-bbb1b48c0177"
      },
      "execution_count": 9,
      "outputs": [
        {
          "output_type": "stream",
          "name": "stdout",
          "text": [
            "A= [[ 1 -4  0]\n",
            " [ 2 -3  1]\n",
            " [ 1  4  2]]\n",
            "B= [[-5]\n",
            " [-7]\n",
            " [-1]]\n",
            "[[-5.   4.  -2. ]\n",
            " [-1.5  1.  -0.5]\n",
            " [ 5.5 -4.   2.5]]\n",
            "X= [[-1.]\n",
            " [ 1.]\n",
            " [-2.]]\n"
          ]
        }
      ]
    },
    {
      "cell_type": "code",
      "source": [
        "import numpy as np\n",
        "\n",
        "a = np.matrix('1 -4 0; 2 -3 1; 1 4 2')\n",
        "b = np.matrix('-5; -7; -1')\n",
        "def kram(a,b):\n",
        "    det_a = np.linalg.det(a)\n",
        "    if det_a != 0:\n",
        "       a1 = np.matrix(a)\n",
        "       a2 = np.matrix(a)\n",
        "       a3 = np.matrix(a)\n",
        "       a1[:, 0] = b\n",
        "       a2[:, 1] = b\n",
        "       a3[:, 2] = b\n",
        "       x = np.linalg.det(a1)/det_a\n",
        "       y =np.linalg.det(a2)/det_a\n",
        "       z= np.linalg.det(a3)/det_a\n",
        "       print('Solving a system of linear algebraic equations by Cramer*s method')\n",
        "       print('x=',x.round(3),'y=',y.round(3),'z=',z.round(3))\n",
        "    else:\n",
        "        print('Determinant equals zero, the system has no solutions')\n",
        "    return x,y,z\n",
        "kram(a,b)\n",
        "print('Checking the correctness of the solution\\n', np.linalg.solve(a,b).round(3))"
      ],
      "metadata": {
        "colab": {
          "base_uri": "https://localhost:8080/"
        },
        "id": "-2wGzabI7_qO",
        "outputId": "6e666d7d-1e17-419a-84ee-b48895dd1d93"
      },
      "execution_count": 10,
      "outputs": [
        {
          "output_type": "stream",
          "name": "stdout",
          "text": [
            "Solving a system of linear algebraic equations by Cramer*s method\n",
            "x= -1.0 y= 1.0 z= -2.0\n",
            "Checking the correctness of the solution\n",
            " [[-1.]\n",
            " [ 1.]\n",
            " [-2.]]\n"
          ]
        }
      ]
    },
    {
      "cell_type": "code",
      "source": [
        "import numpy as np\n",
        "\n",
        "a = np.array(np.random.randint(0, 5, size=(5, 3)))\n",
        "\n",
        "average_rows = np.mean(a, axis=1)\n",
        "average_columns = np.mean(a, axis=0)\n",
        "minimum_average_row = np.min(average_rows)\n",
        "\n",
        "print(a)\n",
        "print(f\"Середні значення рядків: {average_rows}\")\n",
        "print(f\"Середні значення стовпців: {average_columns}\")\n",
        "print(f\"Найнижче середнє значення серед рядків: {minimum_average_row}\")"
      ],
      "metadata": {
        "colab": {
          "base_uri": "https://localhost:8080/"
        },
        "id": "CjKrQoDw8JUn",
        "outputId": "c6764ebe-f626-4a11-bc82-fef43e9c7c1a"
      },
      "execution_count": 12,
      "outputs": [
        {
          "output_type": "stream",
          "name": "stdout",
          "text": [
            "[[1 1 1]\n",
            " [4 2 1]\n",
            " [0 2 3]\n",
            " [2 1 0]\n",
            " [1 4 0]]\n",
            "Середні значення рядків: [1.         2.33333333 1.66666667 1.         1.66666667]\n",
            "Середні значення стовпців: [1.6 2.  1. ]\n",
            "Найнижче середнє значення серед рядків: 1.0\n"
          ]
        }
      ]
    }
  ]
}