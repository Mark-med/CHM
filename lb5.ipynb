{
  "nbformat": 4,
  "nbformat_minor": 0,
  "metadata": {
    "colab": {
      "provenance": [],
      "authorship_tag": "ABX9TyNgbkRBrTQ1EMvD3TytB50Z",
      "include_colab_link": true
    },
    "kernelspec": {
      "name": "python3",
      "display_name": "Python 3"
    },
    "language_info": {
      "name": "python"
    }
  },
  "cells": [
    {
      "cell_type": "markdown",
      "metadata": {
        "id": "view-in-github",
        "colab_type": "text"
      },
      "source": [
        "<a href=\"https://colab.research.google.com/github/Mark-med/CHM/blob/main/lb5.ipynb\" target=\"_parent\"><img src=\"https://colab.research.google.com/assets/colab-badge.svg\" alt=\"Open In Colab\"/></a>"
      ]
    },
    {
      "cell_type": "markdown",
      "source": [
        "#Медведчук Марк 13 варіант лаба 5"
      ],
      "metadata": {
        "id": "6PKwqt0Z9VMY"
      }
    },
    {
      "cell_type": "code",
      "execution_count": 3,
      "metadata": {
        "colab": {
          "base_uri": "https://localhost:8080/"
        },
        "id": "HQol_SNx9SXx",
        "outputId": "950fafea-7c79-4273-ec07-173c4a1a3230"
      },
      "outputs": [
        {
          "output_type": "stream",
          "name": "stdout",
          "text": [
            "Simple iteration:\n",
            " x = 1.142711380559246,\n",
            " y = -0.2896568501220924,\n",
            " Iterations = 5\n",
            "Check with scipy.optimize:\n",
            " x = 1.1428847552226702,\n",
            " y = -0.28980932884905025\n"
          ]
        }
      ],
      "source": [
        "import numpy as np\n",
        "from scipy import optimize\n",
        "import math\n",
        "x0 = 0.7\n",
        "y0 = -0.2\n",
        "tolerance = 0.001\n",
        "\n",
        "# Функції для ітераційного методу\n",
        "def f1(y):\n",
        "    return (2 - math.sin(y)) / 2\n",
        "\n",
        "def f2(x):\n",
        "    return 0.7 - math.cos(x - 1)\n",
        "\n",
        "# Метод простої ітерації\n",
        "def simple_iteration(x0, y0, tolerance):\n",
        "    xn = x0\n",
        "    yn = y0\n",
        "    n = 0\n",
        "    while True:\n",
        "        xn1 = f1(yn)\n",
        "        yn1 = f2(xn)\n",
        "        if abs(xn1 - xn) < tolerance and abs(yn1 - yn) < tolerance:\n",
        "            break\n",
        "        xn, yn = xn1, yn1\n",
        "        n += 1\n",
        "    print(f\"Simple iteration:\\n x = {xn},\\n y = {yn},\\n Iterations = {n}\")\n",
        "    return xn, yn\n",
        "\n",
        "\n",
        "\n",
        "\n",
        "# Викликаємо метод простої ітерації\n",
        "x_iter, y_iter = simple_iteration(x0, y0, tolerance)\n",
        "\n",
        "# Перевірка результату за допомогою scipy.optimize\n",
        "def equations(vars):\n",
        "    x, y = vars\n",
        "    eq1 = math.sin(y) + 2*x - 2\n",
        "    eq2 = math.cos(x - 1) + y - 0.7\n",
        "    return [eq1, eq2]\n",
        "\n",
        "# Застосовуємо метод scipy.optimize для знаходження коренів\n",
        "solution = optimize.root(equations, [x0, y0], method='hybr')\n",
        "x_scipy, y_scipy = solution.x\n",
        "\n",
        "# Порівняння результатів\n",
        "print(f\"Check with scipy.optimize:\\n x = {x_scipy},\\n y = {y_scipy}\")\n"
      ]
    }
  ]
}